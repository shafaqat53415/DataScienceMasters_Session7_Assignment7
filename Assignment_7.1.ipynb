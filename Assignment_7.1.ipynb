{
 "cells": [
  {
   "cell_type": "code",
   "execution_count": 1,
   "metadata": {},
   "outputs": [],
   "source": [
    "#Write a function to find moving average in an array over a window:\n",
    "#Test it over [3, 5, 7, 2, 8, 10, 11, 65, 72, 81, 99, 100, 150] and window of 3."
   ]
  },
  {
   "cell_type": "code",
   "execution_count": 2,
   "metadata": {},
   "outputs": [],
   "source": [
    "def Seq(x,k):\n",
    "    for i in range(len(x)):\n",
    "        Sum = 0\n",
    "        for j in range(k):\n",
    "            if i+j != len(x):\n",
    "                Sum = Sum + x[i+j]\n",
    "            else:\n",
    "                print('The moving average sequence has %d values'%i)\n",
    "                return\n",
    "        print('y%d'%(i+1),' '*(i+1),((Sum/k)))\n",
    "    return "
   ]
  },
  {
   "cell_type": "code",
   "execution_count": 3,
   "metadata": {},
   "outputs": [
    {
     "name": "stdout",
     "output_type": "stream",
     "text": [
      "y1   5.0\n",
      "y2    4.666666666666667\n",
      "y3     5.666666666666667\n",
      "y4      6.666666666666667\n",
      "y5       9.666666666666666\n",
      "y6        28.666666666666668\n",
      "y7         49.333333333333336\n",
      "y8          72.66666666666667\n",
      "y9           84.0\n",
      "y10            93.33333333333333\n",
      "y11             116.33333333333333\n",
      "The moving average sequence has 11 values\n"
     ]
    }
   ],
   "source": [
    "import numpy as np\n",
    "x = [3, 5, 7, 2, 8, 10, 11, 65, 72, 81, 99, 100, 150]\n",
    "x = np.array(x)\n",
    "k = 3\n",
    "Seq(x,k)"
   ]
  }
 ],
 "metadata": {
  "kernelspec": {
   "display_name": "Python 3",
   "language": "python",
   "name": "python3"
  },
  "language_info": {
   "codemirror_mode": {
    "name": "ipython",
    "version": 3
   },
   "file_extension": ".py",
   "mimetype": "text/x-python",
   "name": "python",
   "nbconvert_exporter": "python",
   "pygments_lexer": "ipython3",
   "version": "3.6.5"
  }
 },
 "nbformat": 4,
 "nbformat_minor": 2
}
